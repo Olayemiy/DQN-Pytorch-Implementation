{
 "cells": [
  {
   "cell_type": "code",
   "execution_count": 1,
   "metadata": {},
   "outputs": [],
   "source": [
    "import torch\n",
    "import torch.autograd as autograd         # computation graph\n",
    "from torch import Tensor                  # tensor node in the computation graph\n",
    "import torch.nn as nn                     # neural networks\n",
    "import torch.nn.functional as F           # layers, activations and more\n",
    "import torch.optim as optim               # optimizers e.g. gradient descent, ADAM, etc.\n",
    "import gym\n",
    "from collections import deque\n",
    "import collections, itertools\n",
    "import numpy as np\n",
    "from torch.utils.tensorboard import SummaryWriter\n",
    "import pickle                             #for saving objects"
   ]
  },
  {
   "cell_type": "code",
   "execution_count": 2,
   "metadata": {},
   "outputs": [],
   "source": [
    "class DQN(nn.Module):\n",
    "    def __init__(self,obs_array_len, num_actions):\n",
    "        super(DQN, self).__init__()\n",
    "        self.fc =nn.Linear(obs_array_len,120)\n",
    "        self.fc1= nn.Linear(120,120)\n",
    "        self.output = nn.Linear(120, num_actions) #according to env.action_space, there are 4 actions that can be taken\n",
    "        \n",
    "    def forward(self, obs):\n",
    "        x=F.relu(self.fc(obs))\n",
    "        x=F.relu(self.fc1(x))\n",
    "        x=self.output(x)\n",
    "        return x "
   ]
  },
  {
   "cell_type": "code",
   "execution_count": 3,
   "metadata": {},
   "outputs": [],
   "source": [
    "import gym\n",
    "env = gym.make(\"CartPole-v1\")\n",
    "obs = env.reset()\n",
    "if torch.cuda.is_available():\n",
    "    device = torch.device(\"cuda:0\")\n",
    "def to_torch(i):\n",
    "    return torch.from_numpy(i)"
   ]
  },
  {
   "cell_type": "code",
   "execution_count": 4,
   "metadata": {},
   "outputs": [
    {
     "data": {
      "text/plain": [
       "DQN(\n",
       "  (fc): Linear(in_features=4, out_features=120, bias=True)\n",
       "  (fc1): Linear(in_features=120, out_features=120, bias=True)\n",
       "  (output): Linear(in_features=120, out_features=2, bias=True)\n",
       ")"
      ]
     },
     "execution_count": 4,
     "metadata": {},
     "output_type": "execute_result"
    }
   ],
   "source": [
    "net=DQN(len(obs),env.action_space.n)\n",
    "\n",
    "PATH=r'DQN_save_files\\CartPole-v1.pth'\n",
    "checkpoint = torch.load(PATH)\n",
    "net.load_state_dict(checkpoint['model_state_dict'])\n",
    "net.eval()\n"
   ]
  },
  {
   "cell_type": "code",
   "execution_count": null,
   "metadata": {},
   "outputs": [],
   "source": [
    "num_episodes=10\n",
    "c=0\n",
    "r=0\n",
    "while(c<=num_episodes):\n",
    "    \n",
    "    action= torch.argmax(net(to_torch(obs).float()))\n",
    "    action= action.item()# your agent here (this takes random actions)\n",
    "    obs, reward, done, info = env.step(action)\n",
    "    env.render()\n",
    "    r+=reward\n",
    "\n",
    "    if done:\n",
    "        observation = env.reset()\n",
    "        c+=1\n",
    "        print(\"Episode Reward:\",r)\n",
    "        r=0\n",
    "env.close()"
   ]
  },
  {
   "cell_type": "code",
   "execution_count": null,
   "metadata": {},
   "outputs": [],
   "source": []
  }
 ],
 "metadata": {
  "kernelspec": {
   "display_name": "Python 3",
   "language": "python",
   "name": "python3"
  },
  "language_info": {
   "codemirror_mode": {
    "name": "ipython",
    "version": 3
   },
   "file_extension": ".py",
   "mimetype": "text/x-python",
   "name": "python",
   "nbconvert_exporter": "python",
   "pygments_lexer": "ipython3",
   "version": "3.7.4"
  }
 },
 "nbformat": 4,
 "nbformat_minor": 2
}
